{
 "cells": [
  {
   "cell_type": "code",
   "execution_count": 6,
   "metadata": {},
   "outputs": [
    {
     "name": "stdout",
     "output_type": "stream",
     "text": [
      "/root/.quantaxis/analysis/600519.csv\n"
     ]
    }
   ],
   "source": [
    "%matplotlib inline\n",
    "    \n",
    "from numpy import nan\n",
    "from pandas import (DataFrame, date_range)\n",
    "\n",
    "\n",
    "# with pd.option_context('display.max_rows', None, 'display.max_columns', None): \n",
    "#     print(tr.iloc[-1].sort_values(ascending=False))\n",
    "#     print(tr.iloc[-1])\n",
    "import QUANTAXIS as QA\n",
    "from QUANTAXIS.QAAnalysis.QAAnalysis_finance import QAAnalysis_finance\n",
    "from QUANTAXIS.QASetting.QALocalize import analysis_path\n",
    "import tools.Sample_Tools as smpl\n",
    "import tools.QAAdapter as qaadapter\n",
    "from base.Constants import trade_date_sse\n",
    "import os\n",
    "\n",
    "def finance_stock_financial_data(code = '600519'):\n",
    "  try:\n",
    "    df_finance = QA.QA_fetch_financial_report_adv(\n",
    "        code, ltype='CN'\n",
    "    ).data\n",
    "    df_finance = df_finance.sort_index(ascending=False)\n",
    "    return df_finance\n",
    "  except:\n",
    "    print( \"input wrong!\")\n",
    "    \n",
    "stock_code = '600519'\n",
    "df = finance_stock_financial_data(stock_code)\n",
    "\n",
    "csv_file = os.path.join(analysis_path, stock_code + '.csv')\n",
    "print(csv_file)\n",
    "df.to_csv(csv_file)\n",
    "print(df)\n",
    "\n",
    "\n"
   ]
  },
  {
   "cell_type": "code",
   "execution_count": null,
   "metadata": {},
   "outputs": [],
   "source": []
  }
 ],
 "metadata": {
  "kernelspec": {
   "display_name": "quant",
   "language": "python",
   "name": "python3"
  },
  "language_info": {
   "codemirror_mode": {
    "name": "ipython",
    "version": 3
   },
   "file_extension": ".py",
   "mimetype": "text/x-python",
   "name": "python",
   "nbconvert_exporter": "python",
   "pygments_lexer": "ipython3",
   "version": "3.8.10"
  },
  "orig_nbformat": 4
 },
 "nbformat": 4,
 "nbformat_minor": 2
}
