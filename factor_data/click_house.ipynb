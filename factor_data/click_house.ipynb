{
 "cells": [
  {
   "cell_type": "code",
   "execution_count": 1,
   "metadata": {},
   "outputs": [
    {
     "name": "stdout",
     "output_type": "stream",
     "text": [
      "jqdatasdk not installed\n",
      "you are using non-interactive mdoel quantaxis\n"
     ]
    }
   ],
   "source": [
    "# %%writefile factor_101.py\n",
    "\n",
    "import sys\n",
    "import os \n",
    "\n",
    "\n",
    "import QUANTAXIS as QA\n",
    "from QUANTAXIS.QAAnalysis.QAAnalysis_finance import QAAnalysis_finance\n",
    "from QUANTAXIS.QASetting.QALocalize import analysis_path\n",
    "from factorBase import FactorBase\n",
    "from factorClickhouse import FactorCKClient\n",
    "\n",
    "from qaenv import (clickhouse_ip, clickhouse_password, clickhouse_port,\n",
    "                   clickhouse_user)\n",
    "\n",
    "\n",
    "from ind.Alpha101 import *\n",
    "\n",
    "from tools import Sample_Tools as smpl\n",
    "from tools import QAAdapter as qaadapter\n",
    "# from tools import QAAdapter as qaadapter\n",
    "# from tools import QA_adapter_get_code_from_block\n",
    "\n",
    "\n",
    "class alpha101_1(FactorBase):\n",
    "\n",
    "    # def finit(self):\n",
    "\n",
    "    #   self.clientr = FactorCKClient(clickhouse_ip, clickhouse_port, user=clickhouse_user, password=clickhouse_password)\n",
    "    #   self.factor_name = 'alpha101_1'\n",
    "\n",
    "    def calc(self, data) -> pd.DataFrame:\n",
    "        \"\"\"\n",
    "\n",
    "        the example is just a day datasource, u can use the min data to generate a day-frequence factor\n",
    "\n",
    "        the factor should be in day frequence \n",
    "        \"\"\"\n",
    "\n",
    "\n",
    "        cur_ret = smpl.get_current_return(data,'close')\n",
    "        prices = data.data['close']\n",
    "\n",
    "        factor = pd.DataFrame(alpha1(prices, cur_ret))\n",
    "        factor = factor.replace([-np.inf, np.inf], 0).fillna(value=0)\n",
    "        factor.columns = ['factor']\n",
    "\n",
    "        return factor.reset_index().dropna()\n"
   ]
  },
  {
   "cell_type": "code",
   "execution_count": 2,
   "metadata": {},
   "outputs": [
    {
     "name": "stdout",
     "output_type": "stream",
     "text": [
      "['alpha101_1', 'alpha101_10', 'alpha101_100', 'alpha101_11', 'alpha101_12', 'alpha101_13', 'alpha101_14', 'alpha101_15', 'alpha101_16', 'alpha101_17', 'alpha101_18', 'alpha101_19', 'alpha101_2', 'alpha101_20', 'alpha101_21', 'alpha101_22', 'alpha101_23', 'alpha101_24', 'alpha101_25', 'alpha101_26', 'alpha101_27', 'alpha101_28', 'alpha101_29', 'alpha101_3', 'alpha101_30', 'alpha101_31', 'alpha101_32', 'alpha101_33', 'alpha101_34', 'alpha101_35', 'alpha101_36', 'alpha101_37', 'alpha101_38', 'alpha101_39', 'alpha101_4', 'alpha101_40', 'alpha101_41', 'alpha101_42', 'alpha101_43', 'alpha101_44', 'alpha101_45', 'alpha101_46', 'alpha101_47', 'alpha101_48', 'alpha101_49', 'alpha101_5', 'alpha101_50', 'alpha101_51', 'alpha101_52', 'alpha101_53', 'alpha101_54', 'alpha101_55', 'alpha101_56', 'alpha101_57', 'alpha101_58', 'alpha101_59', 'alpha101_6', 'alpha101_60', 'alpha101_61', 'alpha101_62', 'alpha101_63', 'alpha101_64', 'alpha101_65', 'alpha101_66', 'alpha101_67', 'alpha101_68', 'alpha101_69', 'alpha101_7', 'alpha101_70', 'alpha101_71', 'alpha101_72', 'alpha101_73', 'alpha101_74', 'alpha101_75', 'alpha101_76', 'alpha101_77', 'alpha101_78', 'alpha101_79', 'alpha101_8', 'alpha101_80', 'alpha101_81', 'alpha101_82', 'alpha101_83', 'alpha101_84', 'alpha101_85', 'alpha101_86', 'alpha101_87', 'alpha101_88', 'alpha101_89', 'alpha101_9', 'alpha101_90', 'alpha101_91', 'alpha101_92', 'alpha101_93', 'alpha101_94', 'alpha101_95', 'alpha101_96', 'alpha101_97', 'alpha101_98', 'alpha101_99', 'factormetadata']\n"
     ]
    }
   ],
   "source": [
    "from qaenv import (clickhouse_ip, clickhouse_password, clickhouse_port,\n",
    "                   clickhouse_user)\n",
    "\n",
    "from base.Constants import trade_date_sse\n",
    "gap = 90\n",
    "end = '2011-07-21'\n",
    "start = trade_date_sse[trade_date_sse.index(end)-gap]\n",
    "stock_list  = qaadapter.QA_adapter_get_code_from_block('sw_l1', '国防军工')\n",
    "\n",
    "data = QA.QA_fetch_stock_day_adv(stock_list, start, end)\n",
    "# print(smpl.get_stock_name(stock_list), len(stock_list))\n",
    "\n",
    "\n",
    "factor_base = alpha101_1(\"alpha101_1\", host=clickhouse_ip, port=clickhouse_port, user=clickhouse_user, password=clickhouse_password)\n",
    "factor_base.update_to_database(data)\n",
    "\n"
   ]
  },
  {
   "cell_type": "code",
   "execution_count": 25,
   "metadata": {},
   "outputs": [
    {
     "data": {
      "text/html": [
       "<div>\n",
       "<style scoped>\n",
       "    .dataframe tbody tr th:only-of-type {\n",
       "        vertical-align: middle;\n",
       "    }\n",
       "\n",
       "    .dataframe tbody tr th {\n",
       "        vertical-align: top;\n",
       "    }\n",
       "\n",
       "    .dataframe thead th {\n",
       "        text-align: right;\n",
       "    }\n",
       "</style>\n",
       "<table border=\"1\" class=\"dataframe\">\n",
       "  <thead>\n",
       "    <tr style=\"text-align: right;\">\n",
       "      <th></th>\n",
       "      <th></th>\n",
       "      <th>alpha101_1</th>\n",
       "    </tr>\n",
       "    <tr>\n",
       "      <th>date</th>\n",
       "      <th>code</th>\n",
       "      <th></th>\n",
       "    </tr>\n",
       "  </thead>\n",
       "  <tbody>\n",
       "    <tr>\n",
       "      <th rowspan=\"5\" valign=\"top\">2011-03-11</th>\n",
       "      <th>000519</th>\n",
       "      <td>0.000000</td>\n",
       "    </tr>\n",
       "    <tr>\n",
       "      <th>000547</th>\n",
       "      <td>0.000000</td>\n",
       "    </tr>\n",
       "    <tr>\n",
       "      <th>000561</th>\n",
       "      <td>0.000000</td>\n",
       "    </tr>\n",
       "    <tr>\n",
       "      <th>000576</th>\n",
       "      <td>0.000000</td>\n",
       "    </tr>\n",
       "    <tr>\n",
       "      <th>000733</th>\n",
       "      <td>-0.389591</td>\n",
       "    </tr>\n",
       "    <tr>\n",
       "      <th>...</th>\n",
       "      <th>...</th>\n",
       "      <td>...</td>\n",
       "    </tr>\n",
       "    <tr>\n",
       "      <th rowspan=\"5\" valign=\"top\">2023-07-21</th>\n",
       "      <th>603261</th>\n",
       "      <td>-0.242188</td>\n",
       "    </tr>\n",
       "    <tr>\n",
       "      <th>603267</th>\n",
       "      <td>0.500000</td>\n",
       "    </tr>\n",
       "    <tr>\n",
       "      <th>603678</th>\n",
       "      <td>-0.120370</td>\n",
       "    </tr>\n",
       "    <tr>\n",
       "      <th>603712</th>\n",
       "      <td>0.031412</td>\n",
       "    </tr>\n",
       "    <tr>\n",
       "      <th>605123</th>\n",
       "      <td>-0.148649</td>\n",
       "    </tr>\n",
       "  </tbody>\n",
       "</table>\n",
       "<p>10896 rows × 1 columns</p>\n",
       "</div>"
      ],
      "text/plain": [
       "                   alpha101_1\n",
       "date       code              \n",
       "2011-03-11 000519    0.000000\n",
       "           000547    0.000000\n",
       "           000561    0.000000\n",
       "           000576    0.000000\n",
       "           000733   -0.389591\n",
       "...                       ...\n",
       "2023-07-21 603261   -0.242188\n",
       "           603267    0.500000\n",
       "           603678   -0.120370\n",
       "           603712    0.031412\n",
       "           605123   -0.148649\n",
       "\n",
       "[10896 rows x 1 columns]"
      ]
     },
     "execution_count": 25,
     "metadata": {},
     "output_type": "execute_result"
    }
   ],
   "source": [
    "factor_base.fetch_data()"
   ]
  },
  {
   "cell_type": "code",
   "execution_count": 40,
   "metadata": {},
   "outputs": [
    {
     "name": "stdout",
     "output_type": "stream",
     "text": [
      "(1, 'John', 10.0)\n",
      "(2, 'Alice', 11.0)\n",
      "(3, 'Bob', 12.0)\n",
      "(1, 'John', 10.0)\n",
      "(2, 'Alice', 11.0)\n",
      "(3, 'Bob', 12.0)\n",
      "(1, 'John', 10.0)\n",
      "(2, 'Alice', 11.0)\n",
      "(3, 'Bob', 12.0)\n",
      "(1, 'John', 10.0)\n",
      "(2, 'Alice', 11.0)\n",
      "(3, 'Bob', 12.0)\n"
     ]
    },
    {
     "data": {
      "text/plain": [
       "[]"
      ]
     },
     "execution_count": 40,
     "metadata": {},
     "output_type": "execute_result"
    }
   ],
   "source": [
    "from clickhouse_driver import Client\n",
    "import clickhouse_driver\n",
    "\n",
    "import QUANTAXIS as QA\n",
    "import pandas as pd\n",
    "port = 9001\n",
    "host = 'localhost'\n",
    "user = 'admin'\n",
    "password = 'admin'\n",
    "database = 'test'\n",
    "\n",
    "#  database=database\n",
    "client = clickhouse_driver.Client(host=host, port=port, user=user, database=database, password=password,\n",
    "                                               settings={\n",
    "                                                   'insert_block_size': 100000000},\n",
    "                                               compression=True)\n",
    "# 创建 ClickHouse 客户端连接\n",
    "\n",
    "client.execute('CREATE DATABASE IF NOT EXISTS test')\n",
    "\n",
    "# 创建表\n",
    "client.execute('CREATE TABLE IF NOT EXISTS `test_table` (id Int, name String,  age Float32) ENGINE = ReplacingMergeTree() ORDER BY id')\n",
    "\n",
    "# 插入数据\n",
    "client.execute('INSERT INTO test_table VALUES', [(1, 'John', 10), (2, 'Alice', 11), (3, 'Bob', 12)])\n",
    "\n",
    "# 执行查询并获取结果\n",
    "result = client.execute('SELECT * FROM test_table')\n",
    "\n",
    "# 打印查询结果\n",
    "for row in result:\n",
    "    print(row)\n",
    "\n",
    "# 更新数据\n",
    "# client.execute('ALTER TABLE test_table UPDATE name = \"HELLO\" WHERE id = 2')\n",
    "# client.execute('ALTER TABLE test_table UPDATE name = \\'HELLO\\' WHERE id = 2')\n",
    "\n",
    "client.execute('OPTIMIZE TABLE test_table FINAL')\n"
   ]
  },
  {
   "cell_type": "code",
   "execution_count": 16,
   "metadata": {},
   "outputs": [
    {
     "name": "stdout",
     "output_type": "stream",
     "text": [
      "(1, 'John')\n",
      "(2, 'HELLO')\n",
      "(3, 'Bob')\n",
      "(1, 'John')\n",
      "(2, 'HELLO')\n",
      "(3, 'Bob')\n",
      "(1, 'John')\n",
      "(2, 'HELLO')\n",
      "(3, 'Bob')\n"
     ]
    }
   ],
   "source": [
    "result = client.execute('SELECT * FROM test_table')\n",
    "\n",
    "# 打印查询结果\n",
    "for row in result:\n",
    "    print(row)"
   ]
  }
 ],
 "metadata": {
  "kernelspec": {
   "display_name": "quant",
   "language": "python",
   "name": "python3"
  },
  "language_info": {
   "codemirror_mode": {
    "name": "ipython",
    "version": 3
   },
   "file_extension": ".py",
   "mimetype": "text/x-python",
   "name": "python",
   "nbconvert_exporter": "python",
   "pygments_lexer": "ipython3",
   "version": "3.8.10"
  },
  "orig_nbformat": 4
 },
 "nbformat": 4,
 "nbformat_minor": 2
}
